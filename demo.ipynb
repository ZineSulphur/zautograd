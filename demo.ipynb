{
 "cells": [
  {
   "cell_type": "markdown",
   "metadata": {},
   "source": [
    "自动梯度demo"
   ]
  },
  {
   "cell_type": "markdown",
   "metadata": {},
   "source": [
    "数学公式手动求导"
   ]
  },
  {
   "cell_type": "code",
   "execution_count": 19,
   "metadata": {},
   "outputs": [
    {
     "name": "stdout",
     "output_type": "stream",
     "text": [
      "function is z = (x ** 2 + 4) * y - x / y\n",
      "formula result:\n",
      "z = 122451.58333333333\n",
      "dz/dx = 2423.9166666666665\n",
      "dz/dy = 10205.701388888889\n"
     ]
    }
   ],
   "source": [
    "# compute gread of function z = (x ** 2 + 4) * y - x / y\n",
    "# dz = 2 * x * y * dx + (x ** 2 + 4) * dy - dx /y + (x / (y * y)) * dy\n",
    "x = 101.0\n",
    "y = 12.0\n",
    "z1 = (x ** 2 + 4) * y - x / y\n",
    "\n",
    "dx = 1.0\n",
    "dy = 0\n",
    "dzx1 = 2 * x * y * dx + (x ** 2 + 4) * dy - dx /y + (x / (y * y)) * dy\n",
    "\n",
    "dx = 0.0\n",
    "dy = 1.0\n",
    "dzy1 = 2 * x * y * dx + (x ** 2 + 4) * dy - dx /y + (x / (y * y)) * dy\n",
    "print(\"function is z = (x ** 2 + 4) * y - x / y\")\n",
    "\n",
    "print(\"formula result:\")\n",
    "print(\"z = {}\".format(z1))\n",
    "print(\"dz/dx = {}\".format(dzx1))\n",
    "print(\"dz/dy = {}\".format(dzy1))"
   ]
  },
  {
   "cell_type": "markdown",
   "metadata": {},
   "source": [
    "基本表达式法自动求导"
   ]
  },
  {
   "cell_type": "code",
   "execution_count": 2,
   "metadata": {},
   "outputs": [
    {
     "name": "stdout",
     "output_type": "stream",
     "text": [
      "lib base autograd result:\n",
      "z = 122451.58333333333\n",
      "dz/dx = 2423.9166666666665\n",
      "dz/dy = 10205.701388888889\n"
     ]
    }
   ],
   "source": [
    "from ad.adlib import ADlib\n",
    "\n",
    "x = 101.0\n",
    "y = 12.0\n",
    "\n",
    "# forward mode\n",
    "# dz/dx\n",
    "dx = 1.0\n",
    "dy = 0\n",
    "t1, dt1 = ADlib.ADpow(x, dx, 2)\n",
    "t2, dt2 = ADlib.ADadd(t1, dt1, 4, 0)\n",
    "t3, dt3 = ADlib.ADmul(t2, dt2, y, dy)\n",
    "t4, dt4 = ADlib.ADdiv(x, dx, y, dy)\n",
    "z2, dzx2 = ADlib.ADsub(t3, dt3, t4, dt4)\n",
    "\n",
    "# dz/dy\n",
    "dx = 0\n",
    "dy = 1.0\n",
    "t1, dt1 = ADlib.ADpow(x, dx, 2)\n",
    "t2, dt2 = ADlib.ADadd(t1, dt1, 4, 0)\n",
    "t3, dt3 = ADlib.ADmul(t2, dt2, y, dy)\n",
    "t4, dt4 = ADlib.ADdiv(x, dx, y, dy)\n",
    "z2, dzy2 = ADlib.ADsub(t3, dt3, t4, dt4)\n",
    "\n",
    "print(\"lib base autograd result:\")\n",
    "print(\"z = {}\".format(z2))\n",
    "print(\"dz/dx = {}\".format(dzx2))\n",
    "print(\"dz/dy = {}\".format(dzy2))"
   ]
  },
  {
   "cell_type": "markdown",
   "metadata": {},
   "source": [
    "操作符重载法自动求导"
   ]
  },
  {
   "cell_type": "code",
   "execution_count": 1,
   "metadata": {},
   "outputs": [
    {
     "name": "stdout",
     "output_type": "stream",
     "text": [
      "operateror overload autograd result:\n",
      "z = 122451.58333333333\n",
      "dz/dx = 2423.9166666666665\n",
      "dz/dy = 10205.701388888889\n"
     ]
    }
   ],
   "source": [
    "from ad.adoo import Value\n",
    "\n",
    "x = Value(101.0)\n",
    "y = Value(12.0)\n",
    "\n",
    "z3 = (x ** 2 + 4) * y - x / y\n",
    "z3.backward()\n",
    "\n",
    "print(\"operateror overload autograd result:\")\n",
    "print(\"z = {}\".format(z3.data))\n",
    "print(\"dz/dx = {}\".format(x.grad))\n",
    "print(\"dz/dy = {}\".format(y.grad))"
   ]
  },
  {
   "cell_type": "markdown",
   "metadata": {},
   "source": [
    "Pytorch自动微分验算"
   ]
  },
  {
   "cell_type": "code",
   "execution_count": 7,
   "metadata": {},
   "outputs": [
    {
     "name": "stdout",
     "output_type": "stream",
     "text": [
      "pytorch autograd result:\n",
      "z = tensor([122451.5859], grad_fn=<SubBackward0>)\n",
      "dz/dx = tensor([2423.9167])\n",
      "dz/dy = tensor([10205.7012])\n"
     ]
    }
   ],
   "source": [
    "import torch\n",
    "\n",
    "x = torch.tensor([101.0], requires_grad=True)\n",
    "y = torch.tensor([12.0], requires_grad=True)\n",
    "\n",
    "z4 = (x ** 2 + 4) * y - x / y\n",
    "z4.backward()\n",
    "\n",
    "print(\"pytorch autograd result:\")\n",
    "print(\"z = {}\".format(z4))\n",
    "print(\"dz/dx = {}\".format(x.grad))\n",
    "print(\"dz/dy = {}\".format(y.grad))"
   ]
  }
 ],
 "metadata": {
  "kernelspec": {
   "display_name": "Python 3",
   "language": "python",
   "name": "python3"
  },
  "language_info": {
   "codemirror_mode": {
    "name": "ipython",
    "version": 3
   },
   "file_extension": ".py",
   "mimetype": "text/x-python",
   "name": "python",
   "nbconvert_exporter": "python",
   "pygments_lexer": "ipython3",
   "version": "3.8.19"
  }
 },
 "nbformat": 4,
 "nbformat_minor": 2
}
