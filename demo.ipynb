{
 "cells": [
  {
   "cell_type": "markdown",
   "metadata": {},
   "source": [
    "自动梯度demo"
   ]
  },
  {
   "cell_type": "markdown",
   "metadata": {},
   "source": [
    "数学公式求导"
   ]
  },
  {
   "cell_type": "code",
   "execution_count": 1,
   "metadata": {},
   "outputs": [
    {
     "name": "stdout",
     "output_type": "stream",
     "text": [
      "function is z = (x ** 2 + 4) * y - x / y\n",
      "formula result:\n",
      "z = 122451.58333333333\n",
      "dz = 12629.618055555555\n"
     ]
    }
   ],
   "source": [
    "# compute gread of function z = (x ** 2 + 4) * y - x / y\n",
    "# dz = 2 * x * y * dx + (x ** 2 + 4) * dy - dx /y + (x / (y * y)) * dy\n",
    "x = 101.0\n",
    "y = 12.0\n",
    "dx = 1.0\n",
    "dy = 1.0\n",
    "\n",
    "z1 = (x ** 2 + 4) * y - x / y\n",
    "dz1 = 2 * x * y * dx + (x ** 2 + 4) * dy - dx /y + (x / (y * y)) * dy\n",
    "print(\"function is z = (x ** 2 + 4) * y - x / y\")\n",
    "\n",
    "print(\"formula result:\")\n",
    "print(\"z = {}\".format(z1))\n",
    "print(\"dz = {}\".format(dz1))"
   ]
  },
  {
   "cell_type": "markdown",
   "metadata": {},
   "source": [
    "基本表达式法自动求导"
   ]
  },
  {
   "cell_type": "code",
   "execution_count": 2,
   "metadata": {},
   "outputs": [
    {
     "name": "stdout",
     "output_type": "stream",
     "text": [
      "lib base autograd result:\n",
      "z = 122451.58333333333\n",
      "dz = 12640.215277777777\n"
     ]
    }
   ],
   "source": [
    "from ad.adlib import ADlib\n",
    "\n",
    "t1, dt1 = ADlib.ADpow(x, dx, 2)\n",
    "t2, dt2 = ADlib.ADadd(t1, dt1, 4, 1)\n",
    "t3, dt3 = ADlib.ADmul(t2, dt2, y, dy)\n",
    "t4, dt4 = ADlib.ADdiv(x, dx, y, dy)\n",
    "z2, dz2 = ADlib.ADsub(t3, dt3, t4, dt4)\n",
    "\n",
    "print(\"lib base autograd result:\")\n",
    "print(\"z = {}\".format(z2))\n",
    "print(\"dz = {}\".format(dz2))"
   ]
  }
 ],
 "metadata": {
  "kernelspec": {
   "display_name": "Python 3",
   "language": "python",
   "name": "python3"
  },
  "language_info": {
   "codemirror_mode": {
    "name": "ipython",
    "version": 3
   },
   "file_extension": ".py",
   "mimetype": "text/x-python",
   "name": "python",
   "nbconvert_exporter": "python",
   "pygments_lexer": "ipython3",
   "version": "3.10.6"
  }
 },
 "nbformat": 4,
 "nbformat_minor": 2
}
